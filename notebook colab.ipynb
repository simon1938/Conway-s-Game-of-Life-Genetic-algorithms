{
  "nbformat": 4,
  "nbformat_minor": 0,
  "metadata": {
    "colab": {
      "provenance": []
    },
    "kernelspec": {
      "name": "python3",
      "display_name": "Python 3"
    },
    "language_info": {
      "name": "python"
    }
  },
  "cells": [
    {
      "cell_type": "code",
      "execution_count": 2,
      "metadata": {
        "colab": {
          "base_uri": "https://localhost:8080/"
        },
        "id": "RTiS_f3Dx_C1",
        "outputId": "a81a181e-5716-4b9f-d8d5-da3a085a9220"
      },
      "outputs": [
        {
          "output_type": "stream",
          "name": "stdout",
          "text": [
            "Cloning into 'Conway-s-Game-of-Life-Genetic-algorithms'...\n",
            "remote: Enumerating objects: 69, done.\u001b[K\n",
            "remote: Counting objects: 100% (69/69), done.\u001b[K\n",
            "remote: Compressing objects: 100% (53/53), done.\u001b[K\n",
            "remote: Total 69 (delta 21), reused 60 (delta 12), pack-reused 0 (from 0)\u001b[K\n",
            "Receiving objects: 100% (69/69), 294.24 KiB | 7.18 MiB/s, done.\n",
            "Resolving deltas: 100% (21/21), done.\n"
          ]
        }
      ],
      "source": [
        "!git clone https://github.com/simon1938/Conway-s-Game-of-Life-Genetic-algorithms.git\n",
        "%cd Conway-s-Game-of-Life-Genetic-algorithms"
      ]
    },
    {
      "cell_type": "code",
      "source": [
        "!python game_of_life.py train --cells 50 --training_attempts 10 --steps 60"
      ],
      "metadata": {
        "id": "v5QpghY8ytRS"
      },
      "execution_count": null,
      "outputs": []
    }
  ]
}